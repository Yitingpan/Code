{
 "cells": [
  {
   "cell_type": "markdown",
   "metadata": {},
   "source": [
    "# 煤的成分基准换算"
   ]
  },
  {
   "cell_type": "markdown",
   "metadata": {},
   "source": [
    "煤中水分和灰分的含量会随外界条件而变化，其他成分的百分含量也将随之变更。所以，在说明煤中各种成分的百分含量时，必须同时注明百分数的基准。常用的基准有如下几种。 1.收到基 收到基以进入锅炉房的原煤为基准，各种成分的收到基以下标ar表示。 Car+Har+Oar+Nar+Sar+Aar+Mar=100% 在锅炉热力计算中，均采用收到基成分。原煤的水分也常以收到基来表示。 2.空气干燥基 空气干燥基以经过自然干燥，去除了外部水分后的煤为基准，以下标ad表示。 Cad+Had+Oad+Nad+Sad+Aad+Mad=100% 3.干燥基 干燥基以去除了全部水分后的煤为基准，以下标d表示。 Cd+Hd+Od+Nd+Sd+Ad=100% 4.干燥无灰基 干燥无灰基以去除了全部水分、灰分后的煤为基准，以下标daf表示。 Cdaf+Hdaf+Odaf+Ndaf+Sdaf=100% 干燥无灰基常用来表示煤的有机物中各种元素成分和挥发分。 这些基准之间的换算系数是根据质量守恒原理得到的。具体见课本21页表格。"
   ]
  },
  {
   "cell_type": "markdown",
   "metadata": {},
   "source": [
    "以收到基换算到其他三种基准为例编写程序。"
   ]
  },
  {
   "cell_type": "code",
   "execution_count": 47,
   "metadata": {
    "collapsed": false
   },
   "outputs": [
    {
     "name": "stdout",
     "output_type": "stream",
     "text": [
      "Cad= 51.83\n",
      "Had= 5.18\n",
      "Oad= 10.37\n",
      "Nad= 1.04\n",
      "Sad= 1.04\n",
      "Aad= 15.55\n",
      "Mad= 15.00\n"
     ]
    },
    {
     "data": {
      "text/plain": [
       "[51.829268292682926,\n",
       " 5.182926829268293,\n",
       " 10.365853658536587,\n",
       " 1.0365853658536586,\n",
       " 1.0365853658536586,\n",
       " 15.548780487804878,\n",
       " 15]"
      ]
     },
     "execution_count": 47,
     "metadata": {},
     "output_type": "execute_result"
    }
   ],
   "source": [
    "#收到基-空气干燥基\n",
    "def ar_to_ad(Car,Har,Oar,Nar,Sar,Aar,Mar,Mad):\n",
    "    k=(100-Mad)/(100-Mar)\n",
    "    Cad=k*Car\n",
    "    Had=k*Har\n",
    "    Oad=k*Oar\n",
    "    Nad=k*Nar\n",
    "    Sad=k*Sar\n",
    "    Aad=k*Aar\n",
    "    print('Cad=','%.2f'%Cad)\n",
    "    print('Had=','%.2f'%Had)\n",
    "    print('Oad=','%.2f'%Oad)\n",
    "    print('Nad=','%.2f'%Nad)\n",
    "    print('Sad=','%.2f'%Sad)\n",
    "    print('Aad=','%.2f'%Aad)\n",
    "    print('Mad=','%.2f'%Mad)\n",
    "    a=[Cad,Had,Oad,Nad,Sad,Aad,Mad]\n",
    "    return a\n",
    "ar_to_ad(50,5,10,1,1,15,18,15)"
   ]
  },
  {
   "cell_type": "code",
   "execution_count": 42,
   "metadata": {
    "collapsed": false
   },
   "outputs": [
    {
     "name": "stdout",
     "output_type": "stream",
     "text": [
      "Cd= 60.98\n",
      "Hd= 6.10\n",
      "Od= 12.20\n",
      "Nd= 1.22\n",
      "Sd= 1.22\n",
      "Ad= 18.29\n"
     ]
    },
    {
     "data": {
      "text/plain": [
       "[60.97560975609756,\n",
       " 6.097560975609756,\n",
       " 12.195121951219512,\n",
       " 1.2195121951219512,\n",
       " 1.2195121951219512,\n",
       " 18.29268292682927]"
      ]
     },
     "execution_count": 42,
     "metadata": {},
     "output_type": "execute_result"
    }
   ],
   "source": [
    "#收到基-干燥基\n",
    "def ar_to_d(Car,Har,Oar,Nar,Sar,Aar,Mar):\n",
    "    k=(100)/(100-Mar)\n",
    "    Cd=k*Car\n",
    "    Hd=k*Har\n",
    "    Od=k*Oar\n",
    "    Nd=k*Nar\n",
    "    Sd=k*Sar\n",
    "    Ad=k*Aar\n",
    "    print('Cd=','%.2f'%Cd)\n",
    "    print('Hd=','%.2f'%Hd)\n",
    "    print('Od=','%.2f'%Od)\n",
    "    print('Nd=','%.2f'%Nd)\n",
    "    print('Sd=','%.2f'%Sd)\n",
    "    print('Ad=','%.2f'%Ad)\n",
    "    a=[Cd,Hd,Od,Nd,Sd,Ad]\n",
    "    return a\n",
    "ar_to_d(50,5,10,1,1,15,18)"
   ]
  },
  {
   "cell_type": "code",
   "execution_count": 43,
   "metadata": {
    "collapsed": false
   },
   "outputs": [
    {
     "name": "stdout",
     "output_type": "stream",
     "text": [
      "Cdaf= 74.63\n",
      "Hdaf= 7.46\n",
      "Odaf= 14.93\n",
      "Ndaf= 1.49\n",
      "Sdaf= 1.49\n"
     ]
    },
    {
     "data": {
      "text/plain": [
       "[74.6268656716418,\n",
       " 7.462686567164179,\n",
       " 14.925373134328359,\n",
       " 1.492537313432836,\n",
       " 1.492537313432836]"
      ]
     },
     "execution_count": 43,
     "metadata": {},
     "output_type": "execute_result"
    }
   ],
   "source": [
    "#收到基-干燥无灰基\n",
    "def ar_to_daf(Car,Har,Oar,Nar,Sar,Aar,Mar):\n",
    "    k=(100)/(100-Mar-Aar)\n",
    "    Cdaf=k*Car\n",
    "    Hdaf=k*Har\n",
    "    Odaf=k*Oar\n",
    "    Ndaf=k*Nar\n",
    "    Sdaf=k*Sar\n",
    "    print('Cdaf=','%.2f'%Cdaf)\n",
    "    print('Hdaf=','%.2f'%Hdaf)\n",
    "    print('Odaf=','%.2f'%Odaf)\n",
    "    print('Ndaf=','%.2f'%Ndaf)\n",
    "    print('Sdaf=','%.2f'%Sdaf)\n",
    "    a=[Cdaf,Hdaf,Odaf,Ndaf,Sdaf]\n",
    "    return a\n",
    "ar_to_daf(50,5,10,1,1,15,18)"
   ]
  }
 ],
 "metadata": {
  "kernelspec": {
   "display_name": "Python 3",
   "language": "python",
   "name": "python3"
  },
  "language_info": {
   "codemirror_mode": {
    "name": "ipython",
    "version": 3
   },
   "file_extension": ".py",
   "mimetype": "text/x-python",
   "name": "python",
   "nbconvert_exporter": "python",
   "pygments_lexer": "ipython3",
   "version": "3.5.1"
  }
 },
 "nbformat": 4,
 "nbformat_minor": 0
}
