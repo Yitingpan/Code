{
 "cells": [
  {
   "cell_type": "markdown",
   "metadata": {},
   "source": [
    "# 标准节流装置第一类命题计算"
   ]
  },
  {
   "cell_type": "markdown",
   "metadata": {},
   "source": [
    "这是《热工测量及仪表》第三版课本第202页的计算题，用到了迭代法计算流量，即已知管道内径、节流件开孔直径、节流件形式、取压方式、被测流体参数等必要条件，根据所测得的压差值delta_p计算流量qm。迭代法在很多学科的计算中均有运用，因此设计本代码在解决问题的过程中具有较高的应用价值。在解决本题的过程中，首先需要进行一些准备计算，查询一些附录及表格确定一些参数，此处不再赘述，将迭代所用参数以已知条件的方式列出：管道直径Dt,节流件开孔直径dt,流束膨胀系数epsilon,压差delta_p,密度rho1,动力粘度eta分别取150.37e-3,95.911e-3,0.63783,1,118600,855.69,126.93e-6。单位均为标准单位。"
   ]
  },
  {
   "cell_type": "markdown",
   "metadata": {},
   "source": [
    "所用的两个迭代方程为：A=epsilondt^2(2rho1delta_p)^0.5/(etaDt(1-beta^4)^0.5)和ReD/C=A"
   ]
  },
  {
   "cell_type": "code",
   "execution_count": 1,
   "metadata": {
    "collapsed": false
   },
   "outputs": [
    {
     "name": "stdout",
     "output_type": "stream",
     "text": [
      "A= 7516504.4252665965\n",
      "C00= 0.6029945543505674\n",
      "迭代次数： 1 ReD= 4532411.236187699 C= 0.6032978829590265\n",
      "迭代次数： 2 ReD= 4534691.207015492 C= 0.6032977685702258\n",
      "迭代结束,ReD= 4534691.207015492\n",
      "流量qm= 67.9771699560979 kg/s\n"
     ]
    }
   ],
   "source": [
    "import math\n",
    "\n",
    "ReD=[] #雷诺数\n",
    "C=[]   #流出系数\n",
    "\n",
    "def iteration_method(Dt,dt,beta,epsilon,delta_p,rho1,eta):#管道直径Dt,节流件开孔直径dt,流束膨胀系数epsilon,压差delta_p,密度rho1,动力粘度eta\n",
    "    A=epsilon*dt**2*(2*rho1*delta_p)**0.5/(eta*Dt*(1-beta**4)**0.5)\n",
    "    print('A=',A)\n",
    "    C00=0.5959+0.0312*beta**2.1-0.184*beta**8\n",
    "    print('C00=',C00)\n",
    "    C.append(C00) #C0用C[0]表示,C0=C00\n",
    "    ReD.append(0) #ReD[0]计算用不到，为方便程序设计置为0\n",
    "    ReD.append(A*C[0]) #ReD1用ReD[1]表示，此处求ReD1\n",
    "    C.append(C00+0.0029*beta**2.5*(10**6/ReD[1])**0.75)#C1\n",
    "    for i in range(1,100): #循环求迭代\n",
    "        print('迭代次数：',i,'ReD=',ReD[i],'C=',C[i])\n",
    "        if (A-ReD[i]/C[i])/A<5e-5: #满足精度输出\n",
    "            print('迭代结束,ReD=',ReD[i])\n",
    "            print('流量qm=',math.pi/4*eta*Dt*ReD[i],'kg/s')\n",
    "            break\n",
    "        else:#不满足精度要求继续迭代\n",
    "            ReD.append(A*C[i])\n",
    "            C.append(C00+0.0029*beta**2.5*(10**6/ReD[i+1])**0.75)\n",
    "\n",
    "iteration_method(150.37e-3,95.911e-3,0.63783,1,118600,855.69,126.93e-6)"
   ]
  },
  {
   "cell_type": "markdown",
   "metadata": {},
   "source": [
    "体会：\n",
    "当计算过程中有迭代计算时，人工计算一般比较繁琐耗时，还容易出错。而利用计算机编好代码再将数据输入，几秒钟就能得出结果，且只要代码没有问题，计算结果一般都是正确的，十分方便。"
   ]
  }
 ],
 "metadata": {
  "kernelspec": {
   "display_name": "Python 3",
   "language": "python",
   "name": "python3"
  },
  "language_info": {
   "codemirror_mode": {
    "name": "ipython",
    "version": 3
   },
   "file_extension": ".py",
   "mimetype": "text/x-python",
   "name": "python",
   "nbconvert_exporter": "python",
   "pygments_lexer": "ipython3",
   "version": "3.5.1"
  }
 },
 "nbformat": 4,
 "nbformat_minor": 0
}
