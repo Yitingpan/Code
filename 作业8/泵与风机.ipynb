{
 "cells": [
  {
   "cell_type": "markdown",
   "metadata": {},
   "source": [
    "# 泵与风机课后题2-8"
   ]
  },
  {
   "cell_type": "markdown",
   "metadata": {},
   "source": [
    "一台G4-73型离心式风机，在工况1（流量qv=70300m3/h，全压p=1441.6Pa，轴功率P=33.6kW）及工况2（流量qv=37800m3/h，全压p=2038.4Pa，轴功率\n",
    "P=25.4kW）下运行，问该风机在哪种工况下运行较为经济？"
   ]
  },
  {
   "cell_type": "code",
   "execution_count": 3,
   "metadata": {
    "collapsed": false
   },
   "outputs": [
    {
     "name": "stdout",
     "output_type": "stream",
     "text": [
      "工况 1 的效率 = 83.78 %\n",
      "工况 2 的效率 = 84.26 %\n",
      "工况2更经济\n"
     ]
    }
   ],
   "source": [
    "import math\n",
    "\n",
    "def efficiency(n,q,p,P):\n",
    "    Pe=(q/3600)*p\n",
    "    eff=Pe/(1000*P)*100\n",
    "    print(\"工况\",n,\"的效率 =\",'%.2f'%eff,'%')\n",
    "    return eff\n",
    "\n",
    "eff1=efficiency(1,70300,1441.6,33.6)\n",
    "eff2=efficiency(2,37800,2038.4,25.4)\n",
    "\n",
    "if eff1 > eff2:\n",
    "    print(\"工况1更经济\")\n",
    "else:\n",
    "    print(\"工况2更经济\")"
   ]
  }
 ],
 "metadata": {
  "kernelspec": {
   "display_name": "Python 3",
   "language": "python",
   "name": "python3"
  },
  "language_info": {
   "codemirror_mode": {
    "name": "ipython",
    "version": 3
   },
   "file_extension": ".py",
   "mimetype": "text/x-python",
   "name": "python",
   "nbconvert_exporter": "python",
   "pygments_lexer": "ipython3",
   "version": "3.5.1"
  }
 },
 "nbformat": 4,
 "nbformat_minor": 0
}
